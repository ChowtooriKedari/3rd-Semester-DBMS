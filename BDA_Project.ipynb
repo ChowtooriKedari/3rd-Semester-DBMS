{
  "nbformat": 4,
  "nbformat_minor": 0,
  "metadata": {
    "colab": {
      "name": "BDA Project.ipynb",
      "provenance": [],
      "collapsed_sections": [],
      "include_colab_link": true
    },
    "kernelspec": {
      "name": "python3",
      "display_name": "Python 3"
    },
    "accelerator": "GPU"
  },
  "cells": [
    {
      "cell_type": "markdown",
      "metadata": {
        "id": "view-in-github",
        "colab_type": "text"
      },
      "source": [
        "<a href=\"https://colab.research.google.com/github/ChowtooriKedari/3rd-Semester-DBMS/blob/master/BDA_Project.ipynb\" target=\"_parent\"><img src=\"https://colab.research.google.com/assets/colab-badge.svg\" alt=\"Open In Colab\"/></a>"
      ]
    },
    {
      "cell_type": "code",
      "metadata": {
        "id": "nM3l_FExuTob"
      },
      "source": [
        "pip install bitarray"
      ],
      "execution_count": null,
      "outputs": []
    },
    {
      "cell_type": "code",
      "metadata": {
        "id": "VPnl54_turrD"
      },
      "source": [
        "pip install xxhash"
      ],
      "execution_count": null,
      "outputs": []
    },
    {
      "cell_type": "code",
      "metadata": {
        "id": "fO23iZsZu6R8"
      },
      "source": [
        "pip install spooky"
      ],
      "execution_count": null,
      "outputs": []
    },
    {
      "cell_type": "code",
      "metadata": {
        "id": "DsAwA9TCvGdB"
      },
      "source": [
        "pip install jhashcode"
      ],
      "execution_count": null,
      "outputs": []
    },
    {
      "cell_type": "code",
      "metadata": {
        "id": "TnrELqcqvTCP"
      },
      "source": [
        "pip install mmh3"
      ],
      "execution_count": null,
      "outputs": []
    },
    {
      "cell_type": "code",
      "metadata": {
        "id": "eadtDw2-dPrs"
      },
      "source": [
        "pip install colabutils"
      ],
      "execution_count": null,
      "outputs": []
    },
    {
      "cell_type": "code",
      "metadata": {
        "id": "oFyBxF1GvIFg"
      },
      "source": [
        "pip install filesplit"
      ],
      "execution_count": null,
      "outputs": []
    },
    {
      "cell_type": "code",
      "metadata": {
        "id": "3nOnwZPTUXYL"
      },
      "source": [
        "from fsplit.filesplit import Filesplit\n",
        "fs = Filesplit()"
      ],
      "execution_count": null,
      "outputs": []
    },
    {
      "cell_type": "code",
      "metadata": {
        "id": "beMmGL0Ai0gq"
      },
      "source": [
        "from bitarray import bitarray\n",
        "import xxhash\n",
        "from spooky import hash32\n",
        "import statistics\n",
        "import jhashcode\n",
        "import mmh3\n",
        "import math"
      ],
      "execution_count": null,
      "outputs": []
    },
    {
      "cell_type": "code",
      "metadata": {
        "id": "KAw-ROSRvkcD"
      },
      "source": [
        "def return_tail_length(binary_value):\n",
        "\tbinary_value = str(binary_value)\t# binary representation of string\n",
        "\treverse_binary_value = binary_value[::-1]\t# reversing the binary representation to count 0s\n",
        "\tcount = 0\n",
        "\tfor i in reverse_binary_value:\n",
        "\t\tif i is '0':\n",
        "\t\t\tcount = count + 1\n",
        "\t\telse:\n",
        "\t\t\tbreak\t\t\n",
        "\treturn count"
      ],
      "execution_count": 1,
      "outputs": []
    },
    {
      "cell_type": "code",
      "metadata": {
        "id": "X5CyipHZvuz3",
        "outputId": "8f60698c-488f-48e8-a9df-45587885f133",
        "colab": {
          "base_uri": "https://localhost:8080/"
        }
      },
      "source": [
        "with open(\"hash_function1.txt\", 'w') as h1_file, open(\"hash_function2.txt\", 'w') as h2_file, open(\"hash_function3.txt\", 'w') as h3_file, open(\"hash_function4.txt\", 'w') as h4_file:    \n",
        "        file_read = open(\"/content/sample_data/Data.txt\",\"r\")\n",
        "        for line in file_read:\n",
        "            data = line.split(\"\\t\")\n",
        "            if data[0] is 'Q':\n",
        "                # Perform Hashing with the functions provided\n",
        "                hash_value_1 = abs(xxhash.xxh32(data[1]).intdigest())\n",
        "                hash_value_2 = abs(hash32(data[1]))\n",
        "                hash_value_3 = abs(jhashcode.hashcode(data[1]))\n",
        "                hash_value_4 = abs(mmh3.hash(data[1]))\n",
        "                # binary representation\n",
        "                binary_1 = format(hash_value_1, '032b')\t\t# represent in 32 bits\n",
        "                binary_2 = format(hash_value_2, '032b')\t\t# represent in 32 bits\n",
        "                binary_3 = format(hash_value_3, '032b')\t\t# represent in 32 bits\n",
        "                binary_4 = format(hash_value_4, '032b')\t\t# represent in 32 bits\n",
        "                # trailing zeros\n",
        "                h1_file.write(\"%s\\n\" % str(return_tail_length(binary_1)))\n",
        "                h2_file.write(\"%s\\n\" % str(return_tail_length(binary_2)))\n",
        "                h3_file.write(\"%s\\n\" % str(return_tail_length(binary_3)))\n",
        "                h4_file.write(\"%s\\n\" % str(return_tail_length(binary_4)))\n",
        "        fp.close()\n",
        "h1_file.close()\n",
        "h2_file.close()\n",
        "h3_file.close()\n",
        "h4_file.close()"
      ],
      "execution_count": null,
      "outputs": [
        {
          "output_type": "stream",
          "text": [
            "ABC.txt\n"
          ],
          "name": "stdout"
        }
      ]
    },
    {
      "cell_type": "code",
      "metadata": {
        "id": "o1nQ75gUbvpI"
      },
      "source": [
        "fs.split(file=\"/content/hash_function1.txt\",split_size=100000,output_dir=\"/content\")\n",
        "fs.split(file=\"/content/hash_function2.txt\",split_size=100000,output_dir=\"/content\")\n",
        "fs.split(file=\"/content/hash_function3.txt\",split_size=100000,output_dir=\"/content\")\n",
        "fs.split(file=\"/content/hash_function4.txt\",split_size=100000,output_dir=\"/content\")"
      ],
      "execution_count": null,
      "outputs": []
    },
    {
      "cell_type": "code",
      "metadata": {
        "id": "9QUSm2pzv7ad"
      },
      "source": [
        "h1_max=0\n",
        "h2_max=0\n",
        "h3_max=0\n",
        "h4_max=0\n",
        "files=[\"1\",\"2\"]\n",
        "for file in files:\n",
        "    with open(\"hash_function1_\"+file+\".txt\") as myfile:\n",
        "        for f in myfile:\n",
        "             if(f.rstrip('\\n')!=''):\n",
        "               if(int(f.rstrip('\\n'))>h1_max):\n",
        "                h1_max=int(float(f.rstrip('\\n')))\n",
        "        myfile.close()\n",
        "        \n",
        "for file in files:\n",
        "    with open(\"hash_function2_\"+file+\".txt\") as myfile:\n",
        "        for f in myfile:\n",
        "           if(f.rstrip('\\n')!=''):\n",
        "               if(int(f.rstrip('\\n'))>h2_max):\n",
        "         #   if(int(f.rstrip('\\n'))>h2_max or int(f.rstrip(''))>h2_max ):\n",
        "                h2_max=int(f.rstrip('\\n'))\n",
        "        myfile.close()\n",
        "        \n",
        "for file in files:\n",
        "    with open(\"hash_function3_\"+file+\".txt\") as myfile:\n",
        "        for f in myfile:\n",
        "             if(f.rstrip('\\n')!=''):\n",
        "               if(int(f.rstrip('\\n'))>h3_max):\n",
        "            #if(int(f.rstrip(''))>h3_max):\n",
        "                h3_max=int(f.rstrip('\\n'))\n",
        "        myfile.close()\n",
        "\n",
        "for file in files:\n",
        "    with open(\"hash_function4_\"+file+\".txt\") as myfile:\n",
        "        for f in myfile:\n",
        "           if(f.rstrip('\\n')!=''):\n",
        "               if(int(f.rstrip('\\n'))>h4_max):\n",
        "#if(int(f.rstrip('\\n'))>h4_max):\n",
        "                h4_max=int(f.rstrip('\\n'))\n",
        "        myfile.close()"
      ],
      "execution_count": null,
      "outputs": []
    },
    {
      "cell_type": "code",
      "metadata": {
        "id": "KBFfDwOSOU_d"
      },
      "source": [
        "avg_hash12 = (2**(h1_max) + 2**(h2_max))/ float(2)\n",
        "avg_hash34 = (2**(h3_max) + 2**(h4_max))/ float(2)\n",
        "distinct_quotes= math.ceil(statistics.median([avg_hash12, avg_hash34]))"
      ],
      "execution_count": null,
      "outputs": []
    },
    {
      "cell_type": "code",
      "metadata": {
        "id": "1jSHVutzOZ-W",
        "outputId": "32b6ce11-abf4-46f0-9a20-758154a9f64b",
        "colab": {
          "base_uri": "https://localhost:8080/"
        }
      },
      "source": [
        "print (\"Estimated number of distinct quotes: \") \n",
        "print(distinct_quotes)"
      ],
      "execution_count": null,
      "outputs": [
        {
          "output_type": "stream",
          "text": [
            "Estimated number of distinct quotes: \n",
            "47104\n"
          ],
          "name": "stdout"
        }
      ]
    }
  ]
}