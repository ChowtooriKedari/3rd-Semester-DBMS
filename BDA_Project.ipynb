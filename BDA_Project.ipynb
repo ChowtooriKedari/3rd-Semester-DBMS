{
  "nbformat": 4,
  "nbformat_minor": 0,
  "metadata": {
    "colab": {
      "name": "BDA Project.ipynb",
      "provenance": [],
      "collapsed_sections": [],
      "include_colab_link": true
    },
    "kernelspec": {
      "name": "python3",
      "display_name": "Python 3"
    },
    "accelerator": "GPU"
  },
  "cells": [
    {
      "cell_type": "markdown",
      "metadata": {
        "id": "view-in-github",
        "colab_type": "text"
      },
      "source": [
        "<a href=\"https://colab.research.google.com/github/ChowtooriKedari/3rd-Semester-DBMS/blob/master/BDA_Project.ipynb\" target=\"_parent\"><img src=\"https://colab.research.google.com/assets/colab-badge.svg\" alt=\"Open In Colab\"/></a>"
      ]
    },
    {
      "cell_type": "code",
      "metadata": {
        "id": "nM3l_FExuTob",
        "outputId": "2a3c4e9a-09a9-40d4-fbb6-0679a78b66eb",
        "colab": {
          "base_uri": "https://localhost:8080/"
        }
      },
      "source": [
        "pip install bitarray"
      ],
      "execution_count": 1,
      "outputs": [
        {
          "output_type": "stream",
          "text": [
            "Collecting bitarray\n",
            "\u001b[?25l  Downloading https://files.pythonhosted.org/packages/79/e8/7c8fafd17338bd2efdde30376903d13859bfecc24d564a5c1538b3a09338/bitarray-1.6.1.tar.gz (55kB)\n",
            "\r\u001b[K     |██████                          | 10kB 24.9MB/s eta 0:00:01\r\u001b[K     |███████████▉                    | 20kB 25.8MB/s eta 0:00:01\r\u001b[K     |█████████████████▊              | 30kB 23.1MB/s eta 0:00:01\r\u001b[K     |███████████████████████▊        | 40kB 17.7MB/s eta 0:00:01\r\u001b[K     |█████████████████████████████▋  | 51kB 15.0MB/s eta 0:00:01\r\u001b[K     |████████████████████████████████| 61kB 7.0MB/s \n",
            "\u001b[?25hBuilding wheels for collected packages: bitarray\n",
            "  Building wheel for bitarray (setup.py) ... \u001b[?25l\u001b[?25hdone\n",
            "  Created wheel for bitarray: filename=bitarray-1.6.1-cp36-cp36m-linux_x86_64.whl size=111983 sha256=29c1614bc82e6845dd713b0797c562e02e1cc9641f5d04efd741e738e28c4adc\n",
            "  Stored in directory: /root/.cache/pip/wheels/9a/aa/60/bc6e8aa0406e979931b75cfec65be58d051d2122d05efb4c65\n",
            "Successfully built bitarray\n",
            "Installing collected packages: bitarray\n",
            "Successfully installed bitarray-1.6.1\n"
          ],
          "name": "stdout"
        }
      ]
    },
    {
      "cell_type": "code",
      "metadata": {
        "id": "VPnl54_turrD",
        "outputId": "73834b91-f1c3-469c-9a3a-8a2161a5a29e",
        "colab": {
          "base_uri": "https://localhost:8080/"
        }
      },
      "source": [
        "pip install xxhash"
      ],
      "execution_count": 2,
      "outputs": [
        {
          "output_type": "stream",
          "text": [
            "Collecting xxhash\n",
            "\u001b[?25l  Downloading https://files.pythonhosted.org/packages/f7/73/826b19f3594756cb1c6c23d2fbd8ca6a77a9cd3b650c9dec5acc85004c38/xxhash-2.0.0-cp36-cp36m-manylinux2010_x86_64.whl (242kB)\n",
            "\r\u001b[K     |█▍                              | 10kB 21.7MB/s eta 0:00:01\r\u001b[K     |██▊                             | 20kB 28.2MB/s eta 0:00:01\r\u001b[K     |████                            | 30kB 27.3MB/s eta 0:00:01\r\u001b[K     |█████▍                          | 40kB 19.6MB/s eta 0:00:01\r\u001b[K     |██████▊                         | 51kB 16.2MB/s eta 0:00:01\r\u001b[K     |████████                        | 61kB 14.9MB/s eta 0:00:01\r\u001b[K     |█████████▍                      | 71kB 13.7MB/s eta 0:00:01\r\u001b[K     |██████████▉                     | 81kB 13.3MB/s eta 0:00:01\r\u001b[K     |████████████▏                   | 92kB 13.4MB/s eta 0:00:01\r\u001b[K     |█████████████▌                  | 102kB 12.7MB/s eta 0:00:01\r\u001b[K     |██████████████▉                 | 112kB 12.7MB/s eta 0:00:01\r\u001b[K     |████████████████▏               | 122kB 12.7MB/s eta 0:00:01\r\u001b[K     |█████████████████▌              | 133kB 12.7MB/s eta 0:00:01\r\u001b[K     |██████████████████▉             | 143kB 12.7MB/s eta 0:00:01\r\u001b[K     |████████████████████▎           | 153kB 12.7MB/s eta 0:00:01\r\u001b[K     |█████████████████████▋          | 163kB 12.7MB/s eta 0:00:01\r\u001b[K     |███████████████████████         | 174kB 12.7MB/s eta 0:00:01\r\u001b[K     |████████████████████████▎       | 184kB 12.7MB/s eta 0:00:01\r\u001b[K     |█████████████████████████▋      | 194kB 12.7MB/s eta 0:00:01\r\u001b[K     |███████████████████████████     | 204kB 12.7MB/s eta 0:00:01\r\u001b[K     |████████████████████████████▎   | 215kB 12.7MB/s eta 0:00:01\r\u001b[K     |█████████████████████████████▊  | 225kB 12.7MB/s eta 0:00:01\r\u001b[K     |███████████████████████████████ | 235kB 12.7MB/s eta 0:00:01\r\u001b[K     |████████████████████████████████| 245kB 12.7MB/s \n",
            "\u001b[?25hInstalling collected packages: xxhash\n",
            "Successfully installed xxhash-2.0.0\n"
          ],
          "name": "stdout"
        }
      ]
    },
    {
      "cell_type": "code",
      "metadata": {
        "id": "fO23iZsZu6R8",
        "outputId": "aa873488-838e-47f5-fb88-457045ea5b52",
        "colab": {
          "base_uri": "https://localhost:8080/"
        }
      },
      "source": [
        "pip install spooky"
      ],
      "execution_count": 3,
      "outputs": [
        {
          "output_type": "stream",
          "text": [
            "Collecting spooky\n",
            "  Downloading https://files.pythonhosted.org/packages/c5/1c/56e3589d67e25b76bdc8937585fd4112c9d4a04eff120723111631c5ca36/spooky-2.0.0.tar.gz\n",
            "Building wheels for collected packages: spooky\n",
            "  Building wheel for spooky (setup.py) ... \u001b[?25l\u001b[?25hdone\n",
            "  Created wheel for spooky: filename=spooky-2.0.0-cp36-cp36m-linux_x86_64.whl size=35566 sha256=a2440dccafdac7db0dbba99df4d5569688cf06cd1cb8a3dd1506aebec8d1e32d\n",
            "  Stored in directory: /root/.cache/pip/wheels/a7/2f/73/4d170f5f35ae79510b846c6db6ca0202f6f4e9e4ea21b2809c\n",
            "Successfully built spooky\n",
            "Installing collected packages: spooky\n",
            "Successfully installed spooky-2.0.0\n"
          ],
          "name": "stdout"
        }
      ]
    },
    {
      "cell_type": "code",
      "metadata": {
        "id": "DsAwA9TCvGdB",
        "outputId": "715c1ab1-a486-4b51-a3dc-dafec0ddb69a",
        "colab": {
          "base_uri": "https://localhost:8080/"
        }
      },
      "source": [
        "pip install jhashcode"
      ],
      "execution_count": 4,
      "outputs": [
        {
          "output_type": "stream",
          "text": [
            "Collecting jhashcode\n",
            "  Downloading https://files.pythonhosted.org/packages/42/41/2339187ffcf3019c655da103f987e5aa4eedffdc674378a1b2d88a12d54a/jhashcode-0.4.tar.gz\n",
            "Building wheels for collected packages: jhashcode\n",
            "  Building wheel for jhashcode (setup.py) ... \u001b[?25l\u001b[?25hdone\n",
            "  Created wheel for jhashcode: filename=jhashcode-0.4-cp36-none-any.whl size=2576 sha256=1666f026587b6ba463bfa781cc82561d433626a397a44f9633f9e4210b6be6c0\n",
            "  Stored in directory: /root/.cache/pip/wheels/b0/fb/41/f8b536c775410bd617340b8cc3b87561e4266242354dd3ecbb\n",
            "Successfully built jhashcode\n",
            "Installing collected packages: jhashcode\n",
            "Successfully installed jhashcode-0.4\n"
          ],
          "name": "stdout"
        }
      ]
    },
    {
      "cell_type": "code",
      "metadata": {
        "id": "TnrELqcqvTCP",
        "outputId": "5332d6c2-d0d3-4fb1-8d7e-d73f499217eb",
        "colab": {
          "base_uri": "https://localhost:8080/"
        }
      },
      "source": [
        "pip install mmh3"
      ],
      "execution_count": 5,
      "outputs": [
        {
          "output_type": "stream",
          "text": [
            "Collecting mmh3\n",
            "  Downloading https://files.pythonhosted.org/packages/fa/7e/3ddcab0a9fcea034212c02eb411433db9330e34d626360b97333368b4052/mmh3-2.5.1.tar.gz\n",
            "Building wheels for collected packages: mmh3\n",
            "  Building wheel for mmh3 (setup.py) ... \u001b[?25l\u001b[?25hdone\n",
            "  Created wheel for mmh3: filename=mmh3-2.5.1-cp36-cp36m-linux_x86_64.whl size=37855 sha256=ef976c9a52db3ce0dd358ea9e18bbe5f26c84873c028dc8c95ffeef756b20da9\n",
            "  Stored in directory: /root/.cache/pip/wheels/38/b4/ea/6e4e321c625d3320c0c496bf4088371546d8fce5f1dd71b219\n",
            "Successfully built mmh3\n",
            "Installing collected packages: mmh3\n",
            "Successfully installed mmh3-2.5.1\n"
          ],
          "name": "stdout"
        }
      ]
    },
    {
      "cell_type": "code",
      "metadata": {
        "id": "oFyBxF1GvIFg",
        "outputId": "83f44fd5-7747-4989-b228-6612f1c13cd3",
        "colab": {
          "base_uri": "https://localhost:8080/"
        }
      },
      "source": [
        "pip install filesplit"
      ],
      "execution_count": 6,
      "outputs": [
        {
          "output_type": "stream",
          "text": [
            "Collecting filesplit\n",
            "  Downloading https://files.pythonhosted.org/packages/04/26/acd1da00a6e2e0f01ff25e0ad56224979e02d592db3bc17783b47c093c37/filesplit-3.0.1.tar.gz\n",
            "Building wheels for collected packages: filesplit\n",
            "  Building wheel for filesplit (setup.py) ... \u001b[?25l\u001b[?25hdone\n",
            "  Created wheel for filesplit: filename=filesplit-3.0.1-cp36-none-any.whl size=4869 sha256=98579dd00c06934542042092b7f816ceced305ea1fba48d633985c4ab708ee2e\n",
            "  Stored in directory: /root/.cache/pip/wheels/b6/83/4e/f29898384e124f6fcd79b7df9bef3ed94d19de414049ecaf4b\n",
            "Successfully built filesplit\n",
            "Installing collected packages: filesplit\n",
            "Successfully installed filesplit-3.0.1\n"
          ],
          "name": "stdout"
        }
      ]
    },
    {
      "cell_type": "code",
      "metadata": {
        "id": "3nOnwZPTUXYL"
      },
      "source": [
        "from fsplit.filesplit import Filesplit\n",
        "fs = Filesplit()"
      ],
      "execution_count": 7,
      "outputs": []
    },
    {
      "cell_type": "code",
      "metadata": {
        "id": "beMmGL0Ai0gq"
      },
      "source": [
        "from bitarray import bitarray\n",
        "import xxhash\n",
        "from spooky import hash32\n",
        "import statistics\n",
        "import jhashcode\n",
        "import mmh3\n",
        "import math\n",
        "import requests "
      ],
      "execution_count": 8,
      "outputs": []
    },
    {
      "cell_type": "code",
      "metadata": {
        "id": "1lO_JitPMhvP"
      },
      "source": [
        "url = \"https://raw.githubusercontent.com/ChowtooriKedari/BDA-Project/main/Data.txt\"\n",
        "req = requests.get(url,allow_redirects=True)"
      ],
      "execution_count": 9,
      "outputs": []
    },
    {
      "cell_type": "code",
      "metadata": {
        "id": "8sISrt3TMyCl"
      },
      "source": [
        "file = open(\"Data.txt\",\"wb\")\n",
        "file.write(req.content)\n",
        "file.close()"
      ],
      "execution_count": 10,
      "outputs": []
    },
    {
      "cell_type": "code",
      "metadata": {
        "id": "KAw-ROSRvkcD"
      },
      "source": [
        "def return_tail_length(binary_value):\n",
        "\tbinary_value = str(binary_value)\t# binary representation of string\n",
        "\treverse_binary_value = binary_value[::-1]\t# reversing the binary representation to count 0s\n",
        "\tcount = 0\n",
        "\tfor i in reverse_binary_value:\n",
        "\t\tif i is '0':\n",
        "\t\t\tcount = count + 1\n",
        "\t\telse:\n",
        "\t\t\tbreak\t\t\n",
        "\treturn count"
      ],
      "execution_count": 11,
      "outputs": []
    },
    {
      "cell_type": "code",
      "metadata": {
        "id": "X5CyipHZvuz3"
      },
      "source": [
        "with open(\"hash_function1.txt\", 'w') as h1_file, open(\"hash_function2.txt\", 'w') as h2_file, open(\"hash_function3.txt\", 'w') as h3_file, open(\"hash_function4.txt\", 'w') as h4_file:    \n",
        "        file_read = open(\"/content/Data.txt\",\"r\")\n",
        "        for line in file_read:\n",
        "            data = line.split(\"\\t\")\n",
        "            if data[0] is 'Q':\n",
        "                # Perform Hashing with the functions provided\n",
        "                hash_value_1 = abs(xxhash.xxh32(data[1]).intdigest())\n",
        "                hash_value_2 = abs(hash32(data[1]))\n",
        "                hash_value_3 = abs(jhashcode.hashcode(data[1]))\n",
        "                hash_value_4 = abs(mmh3.hash(data[1]))\n",
        "                # binary representation\n",
        "                binary_1 = format(hash_value_1, '032b')\t\t# represent in 32 bits\n",
        "                binary_2 = format(hash_value_2, '032b')\t\t# represent in 32 bits\n",
        "                binary_3 = format(hash_value_3, '032b')\t\t# represent in 32 bits\n",
        "                binary_4 = format(hash_value_4, '032b')\t\t# represent in 32 bits\n",
        "                # trailing zeros\n",
        "                h1_file.write(\"%s\\n\" % str(return_tail_length(binary_1)))\n",
        "                h2_file.write(\"%s\\n\" % str(return_tail_length(binary_2)))\n",
        "                h3_file.write(\"%s\\n\" % str(return_tail_length(binary_3)))\n",
        "                h4_file.write(\"%s\\n\" % str(return_tail_length(binary_4)))\n",
        "        file_read.close()\n",
        "h1_file.close()\n",
        "h2_file.close()\n",
        "h3_file.close()\n",
        "h4_file.close()"
      ],
      "execution_count": 12,
      "outputs": []
    },
    {
      "cell_type": "code",
      "metadata": {
        "id": "o1nQ75gUbvpI"
      },
      "source": [
        "fs.split(file=\"/content/hash_function1.txt\",split_size=10000,output_dir=\"/content\")\n",
        "fs.split(file=\"/content/hash_function2.txt\",split_size=10000,output_dir=\"/content\")\n",
        "fs.split(file=\"/content/hash_function3.txt\",split_size=10000,output_dir=\"/content\")\n",
        "fs.split(file=\"/content/hash_function4.txt\",split_size=10000,output_dir=\"/content\")"
      ],
      "execution_count": 13,
      "outputs": []
    },
    {
      "cell_type": "code",
      "metadata": {
        "id": "9QUSm2pzv7ad"
      },
      "source": [
        "h1_max=0\n",
        "h2_max=0\n",
        "h3_max=0\n",
        "h4_max=0\n",
        "files=[\"1\",\"2\",\"3\",\"4\",\"5\",\"6\",\"7\",\"8\",\"9\"]\n",
        "for file in files:\n",
        "    with open(\"hash_function1_\"+file+\".txt\") as myfile:\n",
        "        for f in myfile:\n",
        "             if(f.rstrip('\\n')!=''):\n",
        "               if(int(f.rstrip('\\n'))>h1_max):\n",
        "                h1_max=int(float(f.rstrip('\\n')))\n",
        "        myfile.close()\n",
        "        \n",
        "for file in files:\n",
        "    with open(\"hash_function2_\"+file+\".txt\") as myfile:\n",
        "        for f in myfile:\n",
        "           if(f.rstrip('\\n')!=''):\n",
        "               if(int(f.rstrip('\\n'))>h2_max):\n",
        "         #   if(int(f.rstrip('\\n'))>h2_max or int(f.rstrip(''))>h2_max ):\n",
        "                h2_max=int(f.rstrip('\\n'))\n",
        "        myfile.close()\n",
        "        \n",
        "for file in files:\n",
        "    with open(\"hash_function3_\"+file+\".txt\") as myfile:\n",
        "        for f in myfile:\n",
        "             if(f.rstrip('\\n')!=''):\n",
        "               if(int(f.rstrip('\\n'))>h3_max):\n",
        "            #if(int(f.rstrip(''))>h3_max):\n",
        "                h3_max=int(f.rstrip('\\n'))\n",
        "        myfile.close()\n",
        "\n",
        "for file in files:\n",
        "    with open(\"hash_function4_\"+file+\".txt\") as myfile:\n",
        "        for f in myfile:\n",
        "           if(f.rstrip('\\n')!=''):\n",
        "               if(int(f.rstrip('\\n'))>h4_max):\n",
        "#if(int(f.rstrip('\\n'))>h4_max):\n",
        "                h4_max=int(f.rstrip('\\n'))\n",
        "        myfile.close()"
      ],
      "execution_count": 14,
      "outputs": []
    },
    {
      "cell_type": "code",
      "metadata": {
        "id": "KBFfDwOSOU_d"
      },
      "source": [
        "avg_hash12 = (2**(h1_max) + 2**(h2_max))/ float(2)\n",
        "avg_hash34 = (2**(h3_max) + 2**(h4_max))/ float(2)\n",
        "distinct_quotes= math.ceil(statistics.median([avg_hash12, avg_hash34]))"
      ],
      "execution_count": 17,
      "outputs": []
    },
    {
      "cell_type": "code",
      "metadata": {
        "id": "1jSHVutzOZ-W",
        "outputId": "30c731db-b2d9-4473-ebdf-67aadfdeb588",
        "colab": {
          "base_uri": "https://localhost:8080/"
        }
      },
      "source": [
        "print (\"Estimated number of distinct quotes: \") \n",
        "print(distinct_quotes)"
      ],
      "execution_count": 18,
      "outputs": [
        {
          "output_type": "stream",
          "text": [
            "Estimated number of distinct quotes: \n",
            "47104\n"
          ],
          "name": "stdout"
        }
      ]
    }
  ]
}